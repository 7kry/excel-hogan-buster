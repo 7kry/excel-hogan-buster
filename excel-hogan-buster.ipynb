{
 "cells": [
  {
   "cell_type": "code",
   "execution_count": 1,
   "id": "d31aa643-ce28-4e74-9f39-57a887aa2c99",
   "metadata": {},
   "outputs": [],
   "source": [
    "import xlwings as xw\n",
    "import shutil\n",
    "import os.path\n",
    "import pandas as pd\n",
    "import operator\n",
    "import math\n",
    "import itertools\n",
    "import re\n",
    "import tkinter\n",
    "from tkinter import filedialog as tkfd\n",
    "import sys"
   ]
  },
  {
   "cell_type": "code",
   "execution_count": 2,
   "id": "f742f855-c213-4d4e-a2cc-86c74fef02c0",
   "metadata": {},
   "outputs": [],
   "source": [
    "# tkinterおまじない\n",
    "root = tkinter.Tk()\n",
    "root.attributes('-topmost', True)\n",
    "root.withdraw()\n",
    "root.lift()\n",
    "root.focus_force()"
   ]
  },
  {
   "cell_type": "code",
   "execution_count": 3,
   "id": "e443187d-c351-4fba-80d5-d1e357443fdf",
   "metadata": {},
   "outputs": [],
   "source": [
    "def A1toij(a1formula):\n",
    "    r1c1absolute = xw.apps.active.api.ConvertFormula(a1formula, 1, -4150, 1)\n",
    "    return tuple(int(m) for m in re.findall(r'\\d+', r1c1absolute))"
   ]
  },
  {
   "cell_type": "code",
   "execution_count": 4,
   "id": "eed827c0-56da-4b49-9e58-01ca1f4b2259",
   "metadata": {},
   "outputs": [],
   "source": [
    "workingdir = tkfd.askdirectory(parent = root)\n",
    "if not workingdir:\n",
    "    sys.exit(130)"
   ]
  },
  {
   "cell_type": "code",
   "execution_count": 5,
   "id": "a1832bb2-79a3-4029-a86b-ac5d6df45754",
   "metadata": {},
   "outputs": [],
   "source": [
    "wb = xw.Book(os.path.join(workingdir, 'form.xlsx'))\n",
    "template_filepath = os.path.join(workingdir, 'template.xlsx')\n",
    "output_filename_template = 'page-%05d.xlsx'"
   ]
  },
  {
   "cell_type": "code",
   "execution_count": 6,
   "id": "6860b5a2-5145-4ee3-90cc-766067d38694",
   "metadata": {},
   "outputs": [
    {
     "data": {
      "text/html": [
       "<div>\n",
       "<style scoped>\n",
       "    .dataframe tbody tr th:only-of-type {\n",
       "        vertical-align: middle;\n",
       "    }\n",
       "\n",
       "    .dataframe tbody tr th {\n",
       "        vertical-align: top;\n",
       "    }\n",
       "\n",
       "    .dataframe thead th {\n",
       "        text-align: right;\n",
       "    }\n",
       "</style>\n",
       "<table border=\"1\" class=\"dataframe\">\n",
       "  <thead>\n",
       "    <tr style=\"text-align: right;\">\n",
       "      <th></th>\n",
       "      <th>電話元</th>\n",
       "      <th>受</th>\n",
       "      <th>伝言</th>\n",
       "    </tr>\n",
       "  </thead>\n",
       "  <tbody>\n",
       "    <tr>\n",
       "      <th>0</th>\n",
       "      <td>いぬ</td>\n",
       "      <td>ねこ</td>\n",
       "      <td>にゃん</td>\n",
       "    </tr>\n",
       "    <tr>\n",
       "      <th>1</th>\n",
       "      <td>さる</td>\n",
       "      <td>とら</td>\n",
       "      <td>がお</td>\n",
       "    </tr>\n",
       "    <tr>\n",
       "      <th>2</th>\n",
       "      <td>きじ</td>\n",
       "      <td>ぞう</td>\n",
       "      <td>ぱおーん</td>\n",
       "    </tr>\n",
       "    <tr>\n",
       "      <th>3</th>\n",
       "      <td>もも</td>\n",
       "      <td>りんご</td>\n",
       "      <td>あいう</td>\n",
       "    </tr>\n",
       "    <tr>\n",
       "      <th>4</th>\n",
       "      <td>くり</td>\n",
       "      <td>ごりら</td>\n",
       "      <td>えおか</td>\n",
       "    </tr>\n",
       "    <tr>\n",
       "      <th>5</th>\n",
       "      <td>かき</td>\n",
       "      <td>らっぱ</td>\n",
       "      <td>きくけ</td>\n",
       "    </tr>\n",
       "  </tbody>\n",
       "</table>\n",
       "</div>"
      ],
      "text/plain": [
       "  電話元    受    伝言\n",
       "0  いぬ   ねこ   にゃん\n",
       "1  さる   とら    がお\n",
       "2  きじ   ぞう  ぱおーん\n",
       "3  もも  りんご   あいう\n",
       "4  くり  ごりら   えおか\n",
       "5  かき  らっぱ   きくけ"
      ]
     },
     "execution_count": 6,
     "metadata": {},
     "output_type": "execute_result"
    }
   ],
   "source": [
    "label = wb.sheets['Records'].range('records[#見出し]').value\n",
    "records = pd.DataFrame([dict(zip(label, row)) for row in wb.sheets['Records'].range('records').value])\n",
    "records"
   ]
  },
  {
   "cell_type": "code",
   "execution_count": 7,
   "id": "1f5f28e2-55ba-436b-819b-7123f25b82fd",
   "metadata": {},
   "outputs": [
    {
     "data": {
      "text/plain": [
       "{'電話元': ('A2', '単一セル'), '受': ('C2', '単一セル'), '伝言': ('A10', '単一セル')}"
      ]
     },
     "execution_count": 7,
     "metadata": {},
     "output_type": "execute_result"
    }
   ],
   "source": [
    "configurations = dict((row[0], tuple(row[1:])) for row in wb.sheets['Configurations'].range('configurations').value)\n",
    "configurations"
   ]
  },
  {
   "cell_type": "code",
   "execution_count": 8,
   "id": "ada40151-a4be-4b6a-baca-c1566c74b759",
   "metadata": {},
   "outputs": [
    {
     "data": {
      "text/plain": [
       "{'record_rows_per_page': 2,\n",
       " 'record_columns_per_page': 2,\n",
       " 'cells_per_row': 24,\n",
       " 'cells_per_column': 6}"
      ]
     },
     "execution_count": 8,
     "metadata": {},
     "output_type": "execute_result"
    }
   ],
   "source": [
    "page_settings = dict((row[0], int(row[1])) for row in wb.sheets['Page Settings'].range('page_settings').value)\n",
    "for k, v in page_settings.items():\n",
    "    vars()[k] = v\n",
    "page_settings"
   ]
  },
  {
   "cell_type": "code",
   "execution_count": 9,
   "id": "2d26e42b-eec7-457a-9920-8ac0e716c24f",
   "metadata": {},
   "outputs": [],
   "source": [
    "wb.close()"
   ]
  },
  {
   "cell_type": "code",
   "execution_count": 10,
   "id": "efc51876-5784-45b4-b20f-66e7529a748c",
   "metadata": {},
   "outputs": [],
   "source": [
    "records_per_page = record_rows_per_page * record_columns_per_page\n",
    "pages = math.ceil(len(records) / records_per_page)"
   ]
  },
  {
   "cell_type": "code",
   "execution_count": 11,
   "id": "5bc2031f-790f-4190-a652-3b560522a14f",
   "metadata": {},
   "outputs": [],
   "source": [
    "app = xw.App()\n",
    "for i, j, k in itertools.product(range(pages), range(record_rows_per_page), range(record_columns_per_page)):\n",
    "    n = records_per_page * i + record_columns_per_page * j + k\n",
    "    if n >= len(records):\n",
    "        break\n",
    "    if j == 0 and k == 0:\n",
    "        if i > 0:\n",
    "            wb.save()\n",
    "            wb.close()\n",
    "        new_filename = os.path.join(workingdir, output_filename_template % (i + 1))\n",
    "        shutil.copy(template_filepath, new_filename)\n",
    "        wb = app.books.open(new_filename)\n",
    "        ws = wb.sheets.active\n",
    "    for col, (a1, method) in configurations.items():\n",
    "        s, t = A1toij(a1)\n",
    "        s += j * cells_per_row\n",
    "        t += k * cells_per_column\n",
    "        val = records.at[n, col]\n",
    "        ws.cells(s, t).value = val\n",
    "        #print(s, t, val)\n",
    "app.quit()"
   ]
  },
  {
   "cell_type": "code",
   "execution_count": null,
   "id": "df55b563-8e09-4ddf-9a8d-460f7a322e8b",
   "metadata": {},
   "outputs": [],
   "source": []
  }
 ],
 "metadata": {
  "kernelspec": {
   "display_name": "Python 3 (ipykernel)",
   "language": "python",
   "name": "python3"
  },
  "language_info": {
   "codemirror_mode": {
    "name": "ipython",
    "version": 3
   },
   "file_extension": ".py",
   "mimetype": "text/x-python",
   "name": "python",
   "nbconvert_exporter": "python",
   "pygments_lexer": "ipython3",
   "version": "3.12.3"
  }
 },
 "nbformat": 4,
 "nbformat_minor": 5
}
